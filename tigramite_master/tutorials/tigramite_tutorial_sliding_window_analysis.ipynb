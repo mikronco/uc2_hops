{
 "cells": [
  {
   "cell_type": "markdown",
   "metadata": {},
   "source": [
    "# Sliding window causal discovery with `TIGRAMITE`\n",
    "\n",
    "TIGRAMITE is a time series analysis python module. It allows to reconstruct graphical models (conditional independence graphs) from discrete or continuously-valued time series based on the PCMCI framework and create high-quality plots of the results.\n",
    "\n",
    "This tutorial explains the function ``PCMCI.run_sliding_window_of`` which is a convenience function that allows to run all PCMCI causal discovery methods on sliding windows across a multivariate time series."
   ]
  },
  {
   "cell_type": "code",
   "execution_count": 1,
   "metadata": {},
   "outputs": [],
   "source": [
    "# Imports\n",
    "import numpy as np\n",
    "import matplotlib\n",
    "from matplotlib import pyplot as plt\n",
    "%matplotlib inline     \n",
    "## use `%matplotlib notebook` for interactive figures\n",
    "# plt.style.use('ggplot')\n",
    "\n",
    "import tigramite\n",
    "from tigramite import data_processing as pp\n",
    "from tigramite.toymodels import structural_causal_processes as toys\n",
    "from tigramite import plotting as tp\n",
    "from tigramite.pcmci import PCMCI\n",
    "from tigramite.independence_tests import ParCorr, GPDC, CMIknn, CMIsymb"
   ]
  },
  {
   "cell_type": "markdown",
   "metadata": {},
   "source": [
    "## Setup\n",
    "\n",
    "PCMCI and its variants allow to reconstruct time series graphs from multivariate time series data. An important underlying assumption is *causal stationarity*, i.e., that the conditional independence relations are stationary over time and, hence, the presence and absence of causal links is stationary. Sometimes, one may know that causal relations are only stationary in specific time periods, for example, we may observe different causal relations in summer and winter. This case can be addressed by the masking functionality which is discussed in the corresponding tutorial.\n",
    "\n",
    "In the sliding window analyis implemented in ``run_sliding_window_of``, on the other hand, we conduct the causal graph estimation separately on a sequence of time windows which is *sled* over the time series. That is, given a ``method``, ``window_step`` $s$ and ``window_length`` $w$, we run the method (e.g., PCMCIplus) sequentially on the samples in each time window $\\{\\mathbf{X}_t\\}_{t=s\\cdot i}^{s\\cdot i+w-1}$ for $i=0, 1, \\ldots$.\n",
    "\n",
    "In the following we discuss two potential use cases."
   ]
  },
  {
   "cell_type": "markdown",
   "metadata": {},
   "source": [
    "## Use case I: Time-varying causal dynamics\n",
    "\n",
    "In this case we assume that the underlying stochastic process $\\mathbf{X}_t=(X^1_t,\\ldots,X^N_t)$ has a *time-varying causal structure*. This may affect the functional dependencies, causal parents, and noise distributions. Hence, we assume the following structural causal model (SCM):\n",
    "\n",
    "\\begin{align} \\label{eq:causal_model}\n",
    "X^j_t &= f^j_t\\left(\\mathcal{P}_t(X^j_t),\\,\\eta^j_t\\right)\\quad \\eta^j_t\\sim \\mathcal{D}_t\n",
    "\\end{align}\n",
    "\n",
    "where $f^j_t$ is some arbitrary function with non-trivial dependencies on its arguments $\\mathcal{P}_t(X^j_t)$ and $\\eta^j_t$. The latter represents mutually ($i\\neq j$) and serially ($t'\\neq t$) independent dynamical noise following some distribution $\\mathcal{D}_t$. Different from before, all three, $f^j_t$,  $\\mathcal{P}_t(X^j_t)$, and $\\mathcal{D}_t$ may be *time-dependent* here.\n",
    "\n",
    "Of course, if this time-dependence is not restricted in some way, then causal relations cannot be identified. In the following example, we consider a *slowly* varying change governed by a slow confounder $U$."
   ]
  },
  {
   "cell_type": "code",
   "execution_count": 2,
   "metadata": {},
   "outputs": [
    {
     "data": {
      "image/png": "[encoded data removed]",
      "text/plain": [
       "<Figure size 432x288 with 4 Axes>"
      ]
     },
     "metadata": {
      "needs_background": "light"
     },
     "output_type": "display_data"
    }
   ],
   "source": [
    "np.random.seed(42)\n",
    "N = 4\n",
    "T = 100000\n",
    "data = np.random.randn(T, N)\n",
    "datatime = np.arange(T)\n",
    "\n",
    "# Simple unobserved confounder U that smoothly changes causal relations\n",
    "U = np.cos(np.arange(T)*0.00005) #+ 0.1*np.random.randn(T)\n",
    "c = 0.8\n",
    "for t in range(1, T):\n",
    "    if U[t] >= 0:\n",
    "        data[t, 0] += 0.4*data[t-1, 0] \n",
    "        data[t, 1] += 0.5*data[t-1, 1] + 0.4*U[t]*data[t-1, 0]\n",
    "        data[t, 2] += 0.6*data[t-1, 2] + data[t, 0] \n",
    "    else:\n",
    "        data[t, 2] += 0.6*data[t-1, 2]         \n",
    "        data[t, 0] += 0.4*data[t-1, 0] + 0.4*data[t, 2]\n",
    "        data[t, 1] += 0.5*data[t-1, 1] + 0.4*U[t]*data[t-1, 0]\n",
    "    data[t, 3] = U[t]\n",
    "\n",
    "# Initialize dataframe object, specify variable names\n",
    "var_names = [r'$X^{%d}$' % j for j in range(N-1) ] + [r'$U$']\n",
    "dataframe_plot = pp.DataFrame(data, var_names=var_names)\n",
    "tp.plot_timeseries(dataframe_plot); plt.show()\n",
    "\n",
    "# For the analysis we use only the observed data\n",
    "dataframe = pp.DataFrame(data[:,:3], var_names=var_names[:-1])"
   ]
  },
  {
   "cell_type": "markdown",
   "metadata": {},
   "source": [
    "As you can see from the data-generating process, $U$ changes the strength and sign of the causal link from $X^0_{t-1}\\to X^1_t$ and, in addition, the causal direction of the contemporaneous link between $X^0_t$ and $X^2_t$. We assume that we do *not* know the unobserved confounder $U$ and construct the dataframe only from $X^0, X^1, X^2$.\n",
    "\n",
    "We now run ``run_sliding_window_of`` with ``method='run_pcmciplus'``, ``window_step=10000`` and ``window_length=10000``. Additional arguments to ``'run_pcmciplus'`` are passed using ``method_args``. Of course, the windows may also be chosen to be overlapping."
   ]
  },
  {
   "cell_type": "code",
   "execution_count": null,
   "metadata": {},
   "outputs": [
    {
     "name": "stdout",
     "output_type": "stream",
     "text": [
      "[[ 0.49671415 -0.1382643   0.64768854]\n",
      " [-0.03546771 -0.10458345  1.93235822]\n",
      " [-0.48366147  0.47608123  0.21233577]\n",
      " ...\n",
      " [ 2.52985126  0.10602459  1.86580234]\n",
      " [ 1.19189361  1.38184719  1.79322093]\n",
      " [-1.83962402  1.6576946  -0.30116077]]\n",
      "[[1 1 1]\n",
      " [1 1 1]\n",
      " [1 1 1]\n",
      " ...\n",
      " [1 1 1]\n",
      " [1 1 1]\n",
      " [1 1 1]]\n"
     ]
    },
    {
     "name": "stderr",
     "output_type": "stream",
     "text": [
      "/home/rung_ja/work/code/python_code/tigramite/tigramite_v4/tigramite/tigramite/independence_tests/cmisymb.py:112: UserWarning: Input data should be of integer type, where each number indexes a symbol. If you provide a float, then the array will still be converted to int.\n",
      "  warnings.warn(\"Input data should be of integer type, where each \"\n"
     ]
    }
   ],
   "source": [
    "window_step=10000\n",
    "window_length=10000\n",
    "method='run_pcmciplus'\n",
    "method_args={'tau_min':0, 'tau_max':2, 'pc_alpha':0.01}\n",
    "conf_lev = 0.95\n",
    "cond_ind_test = ParCorr(significance='analytic')\n",
    "\n",
    "# Init\n",
    "pcmci = PCMCI(\n",
    "    dataframe=dataframe, \n",
    "    cond_ind_test=cond_ind_test,\n",
    "    verbosity=0)\n",
    "# Run\n",
    "results = pcmci.run_sliding_window_of(method=method, \n",
    "                                    method_args=method_args, \n",
    "                                    window_step=window_step,\n",
    "                                    window_length=window_length,\n",
    "                                    conf_lev = conf_lev)\n",
    "\n"
   ]
  },
  {
   "cell_type": "markdown",
   "metadata": {},
   "source": [
    "``run_sliding_window_of`` returns a dictionary with entries `'summary_results'` and `'window_results'`. The first one is discussed for the second use case. ``results['window_results']`` now contains the same result entries as the results of a standard PCMCIplus analysis, but each one is a list of results for every sliding window. In the following we focus on the ``graph`` and ``val_matrix`` and visualize them aligned with the time series."
   ]
  },
  {
   "cell_type": "code",
   "execution_count": null,
   "metadata": {},
   "outputs": [],
   "source": [
    "graphs = results['window_results']['graph']\n",
    "val_matrices = results['window_results']['val_matrix']\n",
    "n_windows = len(graphs)\n",
    "\n",
    "mosaic = [['data %s' %j for i in range(n_windows)] for j in range(N)]\n",
    "for n in range(N):\n",
    "    mosaic.append(['graph %s' %i for i in range(n_windows)])\n",
    "# print(mosaic)\n",
    "fig, axs = plt.subplot_mosaic(mosaic = mosaic, figsize=(20, 10))\n",
    "\n",
    "for j in range(N):\n",
    "    ax = axs['data %s' %j]\n",
    "    ax.axhline(0., color='grey')\n",
    "    if j ==3:\n",
    "        ax.fill_between(x=datatime, y1=-1, y2=1, where=datatime <= window_length, color='grey', alpha=0.3)\n",
    "    \n",
    "    if j == 3: color = 'black'\n",
    "    else: color = 'blue'\n",
    "    ax.plot(datatime, data[:,j], color=color)\n",
    "#     axs['data %s' %j].axis('off') # xaxis.set_ticklabels([])\n",
    "    for loc, spine in ax.spines.items():\n",
    "        if loc != 'left':\n",
    "            spine.set_color(\"none\")\n",
    "    \n",
    "    ax.xaxis.set_ticks([])   \n",
    "    ax.set_xlim(0., T)\n",
    "    ax.set_ylabel(var_names[j])\n",
    "\n",
    "for w in range(n_windows):\n",
    "    if w == 0: show_colorbar=True\n",
    "    else: show_colorbar = False\n",
    "    tp.plot_graph(graphs[w], val_matrix=val_matrices[w], show_colorbar=show_colorbar,\n",
    "                  fig_ax=(fig, axs['graph %s' %w]))\n",
    "\n"
   ]
  },
  {
   "cell_type": "markdown",
   "metadata": {},
   "source": [
    "As you can see, here there are 9 sliding windows (the length is indicated as the grey bar in the $U$-time series. As expected, over time the strength and sign of the causal link from $X^0_{t-1}\\to X^1_t$ and, in addition, the causal direction of the contemporaneous link between $X^0_t$ and $X^2_t$ change."
   ]
  },
  {
   "cell_type": "markdown",
   "metadata": {},
   "source": [
    "## Use case II: Stationary causal relations with a slowly varying confounder\n",
    "\n",
    "In this case we assume that the `SCM` among $\\mathbf{X}_t=(X^1_t,\\ldots,X^N_t)$ among the $X^i$ is stationary over time, i.e., $f^j$,  $\\mathcal{P}(X^j_t)$, and $\\mathcal{D}$ are *not* time dependent, but that there is an added external, slowly-varying confounder. (Of course, the true SCM includes this confounder). "
   ]
  },
  {
   "cell_type": "code",
   "execution_count": null,
   "metadata": {},
   "outputs": [],
   "source": [
    "np.random.seed(42)\n",
    "N = 4\n",
    "T = 10000\n",
    "data = np.random.randn(T, N)\n",
    "datatime = np.arange(T)\n",
    "# Simple unobserved confounder U that smoothly changes causal relations\n",
    "U = np.cos(np.arange(T)*0.0005) #+ 0.1*np.random.randn(T)\n",
    "c = 3.\n",
    "for t in range(1, T):\n",
    "    data[t, 2] += 0.6*data[t-1, 2] + c*U[t]\n",
    "    data[t, 0] += 0.4*data[t-1, 0] + 0.4*data[t, 2] + c*U[t]\n",
    "    data[t, 1] += 0.5*data[t-1, 1] + 0.05*data[t-1, 0] + c*U[t]\n",
    "    data[t, 3] = U[t]\n",
    "\n",
    "# Initialize dataframe object, specify variable names\n",
    "var_names = [r'$X^{%d}$' % j for j in range(N-1) ] + [r'$U$']\n",
    "dataframe_plot = pp.DataFrame(data, var_names=var_names)\n",
    "tp.plot_timeseries(dataframe_plot); plt.show()\n",
    "\n",
    "# For the analysis we use only the observed data\n",
    "dataframe = pp.DataFrame(data[:,:3], var_names=var_names[:-1])"
   ]
  },
  {
   "cell_type": "markdown",
   "metadata": {},
   "source": [
    "We run the analysis both on the whole time series and in sliding windows."
   ]
  },
  {
   "cell_type": "code",
   "execution_count": null,
   "metadata": {},
   "outputs": [],
   "source": [
    "window_step=1000\n",
    "window_length=1000\n",
    "method='run_pcmciplus'\n",
    "method_args={'tau_min':0, 'tau_max':2, 'pc_alpha':0.01}\n",
    "conf_lev = 0.95\n",
    "cond_ind_test = ParCorr(significance='analytic')\n",
    "\n",
    "# Init\n",
    "pcmci = PCMCI(\n",
    "    dataframe=dataframe, \n",
    "    cond_ind_test=cond_ind_test,\n",
    "    verbosity=0)\n",
    "# Run\n",
    "results = pcmci.run_sliding_window_of(method=method, \n",
    "                                    method_args=method_args, \n",
    "                                    window_step=window_step,\n",
    "                                    window_length=window_length,\n",
    "                                    conf_lev = conf_lev)\n",
    "results_alldata = pcmci.run_pcmciplus(**method_args)\n"
   ]
  },
  {
   "cell_type": "markdown",
   "metadata": {},
   "source": [
    "The strong unobserved confounding induces a trend in all variables that makes them dependent. Hence, if we analyze the whole time frame, we get an almost fully connected graph."
   ]
  },
  {
   "cell_type": "code",
   "execution_count": null,
   "metadata": {},
   "outputs": [],
   "source": [
    "tp.plot_graph(graph=results_alldata['graph'], val_matrix=results_alldata['val_matrix']); plt.show()"
   ]
  },
  {
   "cell_type": "markdown",
   "metadata": {},
   "source": [
    "On the other hand, in each sliding window the unobserved confounder can be assumed constant and, hence, does not lead to a confounding."
   ]
  },
  {
   "cell_type": "code",
   "execution_count": null,
   "metadata": {},
   "outputs": [],
   "source": [
    "graphs = results['window_results']['graph']\n",
    "val_matrices = results['window_results']['val_matrix']\n",
    "n_windows = len(graphs)\n",
    "\n",
    "mosaic = [['data %s' %j for i in range(n_windows)] for j in range(N)]\n",
    "for n in range(N):\n",
    "    mosaic.append(['graph %s' %i for i in range(n_windows)])\n",
    "# print(mosaic)\n",
    "fig, axs = plt.subplot_mosaic(mosaic = mosaic, figsize=(20, 10))\n",
    "\n",
    "for j in range(N):\n",
    "    ax = axs['data %s' %j]\n",
    "    ax.axhline(0., color='grey')\n",
    "    if j ==3:\n",
    "        ax.fill_between(x=datatime, y1=-1, y2=1, where=datatime <= window_length, color='grey', alpha=0.3)\n",
    "    \n",
    "    if j == 3: color = 'black'\n",
    "    else: color = 'blue'\n",
    "    ax.plot(datatime, data[:,j], color=color)\n",
    "#     axs['data %s' %j].axis('off') # xaxis.set_ticklabels([])\n",
    "    for loc, spine in ax.spines.items():\n",
    "        if loc != 'left':\n",
    "            spine.set_color(\"none\")\n",
    "    \n",
    "    ax.xaxis.set_ticks([])   \n",
    "    ax.set_xlim(0., T)\n",
    "    ax.set_ylabel(var_names[j])\n",
    "\n",
    "for w in range(n_windows):\n",
    "    if w == 0: show_colorbar=True\n",
    "    else: show_colorbar = False\n",
    "    tp.plot_graph(graphs[w], val_matrix=val_matrices[w], show_colorbar=show_colorbar,\n",
    "                  fig_ax=(fig, axs['graph %s' %w]))\n",
    "\n"
   ]
  },
  {
   "cell_type": "markdown",
   "metadata": {},
   "source": [
    "Now the graph is rather stationary over time. With this assumption of an `effectively stationary` SCM, we may also consider summary statistics in ``'summary_results'``. ``'most_frequent_links'`` contains a graph where each entry contains the link that occurs most frequently among the sliding windows, including the absence of a link ``\"\"``. ``'link_frequency'`` contains the fraction of sliding windows where that link occurs. Finally, ``'val_matrix_mean'`` contains the averaged test statistic values over all time windows. These three features can be visualized using ``plot_graph``.\n",
    "\n",
    "__Note:__ The test statistic values (e.g., partial correlation) may give a qualitative intuition of the `strength` of a dependency, but for a proper causal effect analysis please refer to the ``CausalEffects`` class."
   ]
  },
  {
   "cell_type": "code",
   "execution_count": null,
   "metadata": {},
   "outputs": [],
   "source": [
    "tp.plot_graph(graph=results['summary_results']['most_frequent_links'], \n",
    "              val_matrix=results['summary_results']['val_matrix_mean'],\n",
    "             link_width=results['summary_results']['link_frequency'])\n",
    "print('most_frequent_links')\n",
    "print(results['summary_results']['most_frequent_links'].squeeze())\n",
    "print('link_frequency')\n",
    "print(results['summary_results']['link_frequency'].squeeze())"
   ]
  },
  {
   "cell_type": "markdown",
   "metadata": {},
   "source": [
    "Here the link from $X^0 \\to X^1$ is weak and, hence, only detected in a small fraction of the windows."
   ]
  },
  {
   "cell_type": "code",
   "execution_count": null,
   "metadata": {},
   "outputs": [],
   "source": []
  }
 ],
 "metadata": {
  "kernelspec": {
   "display_name": "Python 3 (ipykernel)",
   "language": "python",
   "name": "python3"
  },
  "language_info": {
   "codemirror_mode": {
    "name": "ipython",
    "version": 3
   },
   "file_extension": ".py",
   "mimetype": "text/x-python",
   "name": "python",
   "nbconvert_exporter": "python",
   "pygments_lexer": "ipython3",
   "version": "3.9.7"
  }
 },
 "nbformat": 4,
 "nbformat_minor": 1
}
